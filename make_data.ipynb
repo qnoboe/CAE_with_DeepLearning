{
 "cells": [
  {
   "cell_type": "markdown",
   "metadata": {
    "deletable": true,
    "editable": true
   },
   "source": [
    "CAEデモ／準備\n",
    "----\n",
    "概要\n",
    "----\n",
    "* データ作成時の設定ファイルは、yaml形式です。\n",
    "    * 28x28のメッシュデータに対して、境界条件の分割数を指定できます。(= NUM_BOUNDARY_BLOCKS)\n",
    "    * 生成するデータ数を指定できます。(= NUM_TRAIN_DATA)"
   ]
  },
  {
   "cell_type": "code",
   "execution_count": 1,
   "metadata": {
    "collapsed": true,
    "deletable": true,
    "editable": true
   },
   "outputs": [],
   "source": [
    "# 可変パラメータ定義\n",
    "NUM_BOUNDARY_BLOCKS = 4\n",
    "NUM_TRAIN_DATA = 1600"
   ]
  },
  {
   "cell_type": "code",
   "execution_count": 2,
   "metadata": {
    "collapsed": false,
    "deletable": true,
    "editable": true
   },
   "outputs": [],
   "source": [
    "# ユニークなファイル名生成\n",
    "from datetime import datetime\n",
    "_d = datetime.now().strftime('%s')\n",
    "_f = \"{d}_{b:02d}_{t:06d}_input.yml\".format(d=_d, b=NUM_BOUNDARY_BLOCKS,t=NUM_TRAIN_DATA)"
   ]
  },
  {
   "cell_type": "code",
   "execution_count": 3,
   "metadata": {
    "collapsed": true,
    "deletable": true,
    "editable": true
   },
   "outputs": [],
   "source": [
    "# 設定内容\n",
    "settings = {\n",
    "    'NUMBER_OF_TRAINING_DATA' : NUM_TRAIN_DATA,\n",
    "    'NUMBER_OF_BOUNDARY_BLOCKS_PER_X_WALL' : NUM_BOUNDARY_BLOCKS,\n",
    "    'NUMBER_OF_BOUNDARY_BLOCKS_PER_Y_WALL' : NUM_BOUNDARY_BLOCKS,\n",
    "    'CONVERGENCE_CRITERIA': 0.01,\n",
    "    'X_SOLVE': 32,\n",
    "    'Y_SOLVE': 32,\n",
    "    'X_CUT': 28,\n",
    "    'Y_CUT': 28,\n",
    "    'TEMPARATURE_MIN': 0,\n",
    "    'TEMPARATURE_MAX': 255,\n",
    "    'X_BOUND': 1,\n",
    "    'Y_BOUND': 1,\n",
    "}"
   ]
  },
  {
   "cell_type": "code",
   "execution_count": 4,
   "metadata": {
    "collapsed": false,
    "deletable": true,
    "editable": true
   },
   "outputs": [
    {
     "name": "stdout",
     "output_type": "stream",
     "text": [
      "yaml: 1506153849_04_001600_input.yml\n"
     ]
    }
   ],
   "source": [
    "import yaml\n",
    "\n",
    "# 設定ファイル作成\n",
    "with open(_f, 'w') as _y:\n",
    "    _y.write(yaml.dump(settings, default_flow_style=False))\n",
    "    print('yaml: {}'.format(_f))"
   ]
  },
  {
   "cell_type": "markdown",
   "metadata": {
    "deletable": true,
    "editable": true
   },
   "source": [
    "データ作成\n",
    "----\n",
    "* 設定ファイルに基いて作成する。\n",
    "* 境界条件（＝ラベル）は、分割数に基づき乱数で作成する。\n",
    "* 温度分布（＝データ）は、拡散方程式を解いて作成する。"
   ]
  },
  {
   "cell_type": "markdown",
   "metadata": {
    "deletable": true,
    "editable": true
   },
   "source": [
    "### 諸準備"
   ]
  },
  {
   "cell_type": "code",
   "execution_count": 5,
   "metadata": {
    "collapsed": false,
    "deletable": true,
    "editable": true
   },
   "outputs": [
    {
     "name": "stdout",
     "output_type": "stream",
     "text": [
      "initialize\n"
     ]
    }
   ],
   "source": [
    "import os\n",
    "\n",
    "print('initialize')\n",
    "\n",
    "# 入出力ファイル準備\n",
    "inputfile = _f\n",
    "f = open(inputfile, \"r+\")\n",
    "input_data = yaml.load(f)\n",
    "\n",
    "_tmp = _f.split('_')\n",
    "train_file = \"{}_{}_{}_training_data.csv\".format(_tmp[0],_tmp[1],_tmp[2])\n",
    "val_file = \"{}_{}_{}_validation_data.csv\".format(_tmp[0],_tmp[1],_tmp[2])\n",
    "\n",
    "def check_and_remove_file(target):\n",
    "    if os.path.exists(target): os.remove(target)\n",
    "\n",
    "check_and_remove_file(train_file)\n",
    "check_and_remove_file(val_file)"
   ]
  },
  {
   "cell_type": "code",
   "execution_count": 6,
   "metadata": {
    "collapsed": true,
    "deletable": true,
    "editable": true
   },
   "outputs": [],
   "source": [
    "# 設定ファイル読込\n",
    "NUMBER_OF_TRAINING_DATA = input_data['NUMBER_OF_TRAINING_DATA']\n",
    "NUMBER_OF_BOUNDARY_BLOCKS_PER_X_WALL = input_data['NUMBER_OF_BOUNDARY_BLOCKS_PER_X_WALL']\n",
    "NUMBER_OF_BOUNDARY_BLOCKS_PER_Y_WALL = input_data['NUMBER_OF_BOUNDARY_BLOCKS_PER_Y_WALL']\n",
    "CONVERGENCE_CRITERIA = input_data['CONVERGENCE_CRITERIA']\n",
    "X_SOLVE = input_data['X_SOLVE']\n",
    "Y_SOLVE = input_data['Y_SOLVE']\n",
    "X_CUT = input_data['X_CUT']\n",
    "Y_CUT = input_data['Y_CUT']\n",
    "TEMPARATURE_MIN = input_data['TEMPARATURE_MIN']\n",
    "TEMPARATURE_MAX = input_data['TEMPARATURE_MAX']\n",
    "X_BOUND = input_data['X_BOUND']\n",
    "Y_BOUND = input_data['Y_BOUND']"
   ]
  },
  {
   "cell_type": "code",
   "execution_count": 7,
   "metadata": {
    "collapsed": false,
    "deletable": true,
    "editable": true
   },
   "outputs": [
    {
     "name": "stdout",
     "output_type": "stream",
     "text": [
      "area size: 34 x 34\n"
     ]
    }
   ],
   "source": [
    "###########################################\n",
    "# allocating and initializing 2d array\n",
    "###########################################\n",
    "\n",
    "# all regions including boundary condition\n",
    "x_size = X_SOLVE + 2 * X_BOUND\n",
    "y_size = Y_SOLVE + 2 * Y_BOUND\n",
    "print('area size: {} x {}'.format(x_size, y_size))\n",
    "\n",
    "###########################################\n",
    "# seting boundary conditions\n",
    "###########################################\n",
    "\n",
    "# calc-region excluding boudary condition\n",
    "imin = X_BOUND\n",
    "imax = x_size - X_BOUND\n",
    "jmin = Y_BOUND\n",
    "jmax = y_size - Y_BOUND\n",
    "\n",
    "# boundary condition parameter\n",
    "xarray_size = X_SOLVE\n",
    "yarray_size = Y_SOLVE\n",
    "tmin = TEMPARATURE_MIN\n",
    "tmax = TEMPARATURE_MAX\n",
    "num_xblock = NUMBER_OF_BOUNDARY_BLOCKS_PER_X_WALL\n",
    "num_yblock = NUMBER_OF_BOUNDARY_BLOCKS_PER_Y_WALL"
   ]
  },
  {
   "cell_type": "markdown",
   "metadata": {
    "deletable": true,
    "editable": true
   },
   "source": [
    "### 関数等定義"
   ]
  },
  {
   "cell_type": "code",
   "execution_count": 8,
   "metadata": {
    "collapsed": false,
    "deletable": true,
    "editable": true
   },
   "outputs": [],
   "source": [
    "import numpy as np\n",
    "import random\n",
    "from enum import Enum\n",
    "\n",
    "# enum定義\n",
    "class BoundType(Enum):\n",
    "    TOP = 1\n",
    "    RIGHT = 2\n",
    "    BOTTOM = 3\n",
    "    LEFT = 4\n",
    "    \n",
    "# クラス定義\n",
    "class RandomArray(object):\n",
    "    def __init__(self, array_size, imin, imax, num_block):\n",
    "        \n",
    "        if array_size % num_block != 0:\n",
    "            sys.stderr.write('\\n\"array_size % number_of_blocks = 0\" is required\\n')\n",
    "            sys.stderr.write('\\nPlease change array_size or boundary block number\\n')\n",
    "            sys.exit()\n",
    "\n",
    "        self.__setValues(imin, imax, num_block)\n",
    "        self.__setArray(self.values, array_size)\n",
    "        \n",
    "#        val_in_block = np.zeros(num_block)\n",
    "#        for i in range(num_block):\n",
    "#            val_in_block[i] = random.randint(imin, imax)  \n",
    "\n",
    "#        self.array = np.zeros(array_size)\n",
    "#        block_size = array_size / num_block\n",
    "#        for i in range(array_size):\n",
    "#            j = int(i / block_size)\n",
    "#            self.array[i] = val_in_block[j]\n",
    "#        self.values = val_in_block\n",
    "        \n",
    "        \n",
    "    def __setValues(self, imin, imax, num_block):\n",
    "        self.values = np.random.randint(imin, imax, num_block)\n",
    "        return\n",
    "    \n",
    "    \n",
    "    def __setArray(self, values, array_size):\n",
    "        block_size = array_size / len(values)\n",
    "        self.array = [ values[int(_/block_size)] for _ in range(array_size) ]\n",
    "        return\n",
    "    \n",
    "    \n",
    "    def data(self):\n",
    "        return self.array\n",
    "    \n",
    "    \n",
    "    def values(self):\n",
    "        return self.values\n",
    "    \n",
    "    \n",
    "class BoundaryConditions(object):\n",
    "    def __init__(self, area):\n",
    "        self.area = area\n",
    "        self.xlen = len(area[0])\n",
    "        self.ylen = len(area)\n",
    "        \n",
    "    def __xdirichlet(self, xarray, xmin, yconst):\n",
    "        for i, val in enumerate(xarray[:]):\n",
    "            self.area[yconst][xmin+i] = val\n",
    "            \n",
    "    def __ydirichlet(self, yarray, xconst, jmin):\n",
    "        for i,val in enumerate(yarray[:]):\n",
    "            self.area[jmin+i][xconst] = val  \n",
    "\n",
    "    def setBoundary(self, bound, x, y, bound_type):\n",
    "        if(bound_type == BoundType.TOP):    self.__xdirichlet(bound, x, y)\n",
    "        if(bound_type == BoundType.RIGHT):  self.__ydirichlet(bound, x, y)\n",
    "        if(bound_type == BoundType.BOTTOM): self.__xdirichlet(bound, x, y)\n",
    "        if(bound_type == BoundType.LEFT):   self.__ydirichlet(bound, x, y)\n",
    "\n",
    "\n",
    "# ユーティリティ関数定義\n",
    "def initialize_fields(x_size, y_size):\n",
    "    return np.zeros((x_size, y_size))\n",
    "\n",
    "def getDataAndLable(area):\n",
    "    # output 28 x 28 area like mnist\n",
    "    x_offset = int((X_SOLVE - X_CUT) / 2) + X_BOUND\n",
    "    y_offset = int((Y_SOLVE - Y_CUT) / 2) + Y_BOUND\n",
    "    \n",
    "    def __transfer_2d_array_to_1d_array(area, imin, jmin, imax, jmax):\n",
    "        x_cut_size = imax - imin\n",
    "        y_cut_size = jmax - jmin\n",
    "        training_data = np.zeros(x_cut_size * y_cut_size)\n",
    "        for j, jj in enumerate(range(jmin, jmax)):\n",
    "            for i, ii in enumerate(range(imin, imax)):\n",
    "                training_data[i*y_cut_size + j] = '%03.1f' % area[jj][ii]\n",
    "        return training_data\n",
    "\n",
    "    # transfer 2d-array to 1d-array due to deep learning training data\n",
    "    data_1d = __transfer_2d_array_to_1d_array(area, x_offset, y_offset, x_size - x_offset, y_size - y_offset)\n",
    "    \n",
    "    # preparing label for deep learning. this labes is 1d-vector\n",
    "    tmp_x = np.r_[t_wall.values, b_wall.values]\n",
    "    tmp_y = np.r_[l_wall.values, r_wall.values]\n",
    "    label_vector = np.r_[tmp_x, tmp_y]\n",
    "    \n",
    "    return data_1d, label_vector"
   ]
  },
  {
   "cell_type": "markdown",
   "metadata": {
    "deletable": true,
    "editable": true
   },
   "source": [
    "### 拡散方程式を解く"
   ]
  },
  {
   "cell_type": "code",
   "execution_count": 9,
   "metadata": {
    "collapsed": true,
    "deletable": true,
    "editable": true
   },
   "outputs": [],
   "source": [
    "def diffusion_equation(area, imin, jmin, imax, jmax, convergence_criteria):    \n",
    "    sum_now = 0.0\n",
    "    sum_old = 0.0\n",
    "    residual_error = 1\n",
    "    \n",
    "    while (residual_error > convergence_criteria):\n",
    "        for j in range(jmin, jmax):\n",
    "            for i in range(imin, imax):\n",
    "                area[j][i] = 0.25 * (area[j  ][i-1] + area[j  ][i+1] \n",
    "                                   + area[j+1][i  ] + area[j-1][i  ])\n",
    "                sum_now = sum_now + area[j][i]\n",
    "        residual_error = abs((sum_now - sum_old) / sum_now)\n",
    "        sum_old = sum_now\n",
    "\n",
    "    return"
   ]
  },
  {
   "cell_type": "markdown",
   "metadata": {
    "deletable": true,
    "editable": true
   },
   "source": [
    "### 学習用データの生成"
   ]
  },
  {
   "cell_type": "code",
   "execution_count": 10,
   "metadata": {
    "collapsed": false,
    "deletable": true,
    "editable": true
   },
   "outputs": [
    {
     "name": "stderr",
     "output_type": "stream",
     "text": [
      "100%|██████████| 2000/2000 [30:48<00:00,  1.12it/s]\n"
     ]
    }
   ],
   "source": [
    "from tqdm import tqdm\n",
    "\n",
    "# 指定された学習用データ＋評価用に25%マシ\n",
    "NUM_LOOP = int(NUMBER_OF_TRAINING_DATA*1.25)\n",
    "\n",
    "# データとラベルのリスト\n",
    "data = []\n",
    "labels = []\n",
    "\n",
    "# データ生成\n",
    "for iter in tqdm(range(NUM_LOOP)):\n",
    "\n",
    "    area = initialize_fields(x_size, y_size)\n",
    "    \n",
    "    # 境界条件を乱数で決定\n",
    "    t_wall = RandomArray(xarray_size, tmin, tmax, num_xblock)\n",
    "    b_wall = RandomArray(xarray_size, tmin, tmax, num_xblock)    \n",
    "    l_wall = RandomArray(yarray_size, tmin, tmax, num_yblock)     \n",
    "    r_wall = RandomArray(yarray_size, tmin, tmax, num_yblock)\n",
    "    \n",
    "    # 境界条件を設定\n",
    "    bc = BoundaryConditions(area)\n",
    "    bc.setBoundary(t_wall.array,       imin,          0, BoundType.TOP)\n",
    "    bc.setBoundary(b_wall.array,       imin, (y_size-1), BoundType.BOTTOM)\n",
    "    bc.setBoundary(r_wall.array, (x_size-1),       jmin, BoundType.RIGHT)\n",
    "    bc.setBoundary(l_wall.array,          0,       jmin, BoundType.LEFT)\n",
    "    \n",
    "    # running solver\n",
    "    diffusion_equation(area, imin, jmin, imax, jmax, CONVERGENCE_CRITERIA)\n",
    "\n",
    "    # 計算結果からデータとラベルの抽出\n",
    "    _data, _label = getDataAndLable(area)\n",
    "    data.append(_data)\n",
    "    labels.append(_label)"
   ]
  },
  {
   "cell_type": "code",
   "execution_count": 11,
   "metadata": {
    "collapsed": false,
    "deletable": true,
    "editable": true
   },
   "outputs": [
    {
     "name": "stdout",
     "output_type": "stream",
     "text": [
      "output: 1506153849_04_001600_training_data.csv, << 800 cols, 1600 rows>>\n",
      "output: 1506153849_04_001600_validation_data.csv, << 800 cols, 400 rows>>\n"
     ]
    }
   ],
   "source": [
    "import pandas as pd\n",
    "\n",
    "data_and_labels = np.c_[data, labels]\n",
    "df_train = pd.DataFrame(data_and_labels[:NUMBER_OF_TRAINING_DATA])\n",
    "df_val = pd.DataFrame(data_and_labels[NUMBER_OF_TRAINING_DATA:])\n",
    "\n",
    "# ファイル出力\n",
    "df_train.to_csv(train_file, float_format='%.1f',index=False, header=False)\n",
    "df_val.to_csv(val_file, float_format='%.1f',index=False, header=False)\n",
    "\n",
    "print('output: {}, << {} cols, {} rows>>'.format(train_file, df_train.shape[1], df_train.shape[0]))\n",
    "print('output: {}, << {} cols, {} rows>>'.format(val_file, df_val.shape[1], df_val.shape[0]))"
   ]
  },
  {
   "cell_type": "code",
   "execution_count": null,
   "metadata": {
    "collapsed": true,
    "deletable": true,
    "editable": true
   },
   "outputs": [],
   "source": []
  }
 ],
 "metadata": {
  "kernelspec": {
   "display_name": "Python 3",
   "language": "python",
   "name": "python3"
  },
  "language_info": {
   "codemirror_mode": {
    "name": "ipython",
    "version": 3
   },
   "file_extension": ".py",
   "mimetype": "text/x-python",
   "name": "python",
   "nbconvert_exporter": "python",
   "pygments_lexer": "ipython3",
   "version": "3.6.2"
  }
 },
 "nbformat": 4,
 "nbformat_minor": 2
}
